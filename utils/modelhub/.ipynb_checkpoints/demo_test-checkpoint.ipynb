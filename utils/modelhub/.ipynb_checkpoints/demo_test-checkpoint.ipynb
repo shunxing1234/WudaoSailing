{
 "cells": [
  {
   "cell_type": "code",
   "execution_count": 1,
   "id": "0071a512",
   "metadata": {},
   "outputs": [],
   "source": [
    "from download_utils import *\n",
    "class DataPull(object):\n",
    "    def __init__(self):\n",
    "        self.models_url={\n",
    "                'glm-10b-en':'https://dorc.baai.ac.cn/resources/MDHub/glm-10b-en.tar.gz',\n",
    "                'glm-10b-zh':'https://dorc.baai.ac.cn/resources/MDHub/glm-10b-zh.tar.gz',\n",
    "                'glm-large-en-blank':'https://dorc.baai.ac.cn/resources/MDHub/glm-large-en-blank.tar.gz',\n",
    "                'glm-large-zh':'https://dorc.baai.ac.cn/resources/MDHub/glm-large-zh.tar.gz'\n",
    "                 }\n",
    "        self.zip_from_url=zip_from_url\n",
    "        self.download_from_url=download_from_url\n",
    "    "
   ]
  },
  {
   "cell_type": "code",
   "execution_count": null,
   "id": "0ac05d33",
   "metadata": {
    "scrolled": false
   },
   "outputs": [
    {
     "data": {
      "application/vnd.jupyter.widget-view+json": {
       "model_id": "26d7f3714a464ed0a2fbf5a5e7bf0366",
       "version_major": 2,
       "version_minor": 0
      },
      "text/plain": [
       "Downloading:   0%|          | 0.00/625M [00:00<?, ?B/s]"
      ]
     },
     "metadata": {},
     "output_type": "display_data"
    }
   ],
   "source": [
    "datadown=DataPull()\n",
    "datadown.zip_from_url(datadown.models_url['glm-large-zh'])"
   ]
  },
  {
   "cell_type": "code",
   "execution_count": null,
   "id": "0099bca8",
   "metadata": {},
   "outputs": [],
   "source": [
    "datadown=DataPull()\n",
    "datadown.download_from_url(datadown.models_url['glm-large-zh'])"
   ]
  }
 ],
 "metadata": {
  "kernelspec": {
   "display_name": "Python 3",
   "language": "python",
   "name": "python3"
  },
  "language_info": {
   "codemirror_mode": {
    "name": "ipython",
    "version": 3
   },
   "file_extension": ".py",
   "mimetype": "text/x-python",
   "name": "python",
   "nbconvert_exporter": "python",
   "pygments_lexer": "ipython3",
   "version": "3.8.8"
  }
 },
 "nbformat": 4,
 "nbformat_minor": 5
}
